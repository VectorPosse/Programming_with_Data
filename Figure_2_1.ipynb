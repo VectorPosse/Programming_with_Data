{
 "cells": [
  {
   "cell_type": "markdown",
   "metadata": {
    "collapsed": false
   },
   "source": [
    "# Figure 2.1\n",
    "\n",
    "## From \"Programming with Data\", Chapter 2 of *Data Science for Mathematicians*\n",
    "\n",
    "(If this cell appears as plain text, hit Ctrl-Enter to render the markdown. If this cell appears as formatted text, double-click it to see the plain text.)\n",
    "\n",
    "In Markdown, text can be formatted with *italics*, **bold**, ***bold italics***, ~~strikethrough~~, and `monospaced` text for code.\n",
    "\n",
    "There is support for LaTeX, either inline math, $x = \\frac{-b \\pm \\sqrt{b^{2} - 4ac}}{2a}$, or displayed math:\n",
    "\n",
    "$$i\\hbar \\frac{\\partial}{\\partial t}\\lvert \\Psi(\\mathbf{r}, t) \\rangle = \\hat{H} \\lvert \\Psi(\\mathbf{r}, t) \\rangle.$$\n",
    "\n",
    "You can create block quotes:\n",
    "\n",
    "> This is a block quote.\n",
    "\n",
    "Or horizontal rules:\n",
    "\n",
    "***\n",
    "\n",
    "* Bullet-\n",
    "* pointed\n",
    "* lists\n",
    "  * with\n",
    "  * indented\n",
    "    * outline\n",
    "    * capabilities\n",
    "    \n",
    "Or numbered lists:\n",
    "\n",
    "1. Numbered\n",
    "2. Lists"
   ]
  }
 ],
 "metadata": {
  "kernelspec": {
   "display_name": "Python 3 (system-wide)",
   "language": "python",
   "metadata": {
    "cocalc": {
     "description": "Python 3 programming language",
     "priority": 100,
     "url": "https://www.python.org/"
    }
   },
   "name": "python3"
  },
  "language_info": {
   "codemirror_mode": {
    "name": "ipython",
    "version": 3
   },
   "file_extension": ".py",
   "mimetype": "text/x-python",
   "name": "python",
   "nbconvert_exporter": "python",
   "pygments_lexer": "ipython3",
   "version": "3.6.9"
  }
 },
 "nbformat": 4,
 "nbformat_minor": 4
}