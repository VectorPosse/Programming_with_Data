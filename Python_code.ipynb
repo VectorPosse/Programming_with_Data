{
 "cells": [
  {
   "cell_type": "markdown",
   "metadata": {
    "collapsed": false
   },
   "source": [
    "# Python code\n",
    "\n",
    "# From \"Programming with Data\", Chapter 2 of *Data Science for Mathematicians*"
   ]
  },
  {
   "cell_type": "markdown",
   "metadata": {
    "collapsed": false
   },
   "source": [
    "## Section 2.3.1"
   ]
  },
  {
   "cell_type": "markdown",
   "metadata": {
    "collapsed": false
   },
   "source": [
    "Rather than using braces or some other kind of punctuation to enclose the body of functions or control statements (like `if/then/else` statements or `for` or `while` loops), Python uses whitespace:"
   ]
  },
  {
   "cell_type": "code",
   "execution_count": 10,
   "metadata": {
    "collapsed": false
   },
   "outputs": [
    {
     "name": "stdout",
     "output_type": "stream",
     "text": [
      "0 is even\n",
      "1 is odd\n",
      "2 is even\n",
      "3 is odd\n",
      "4 is even\n",
      "5 is odd\n",
      "6 is even\n",
      "7 is odd\n",
      "8 is even\n",
      "9 is odd\n"
     ]
    }
   ],
   "source": [
    "for i in range(10):\n",
    "    if i % 2 == 0:\n",
    "        print('{number} is even'.format(number = i))\n",
    "    else:\n",
    "        print('{number} is odd'.format(number = i))"
   ]
  },
  {
   "cell_type": "markdown",
   "metadata": {
    "collapsed": false
   },
   "source": [
    "Variables should be named in sensible, comprehensible ways. It’s probably okay to use something like `i`, `j`, or `k` as a simple index in a `for` loop, but other variables should be named to indicate what they are supposed to store:"
   ]
  },
  {
   "cell_type": "code",
   "execution_count": 3,
   "metadata": {
    "collapsed": false
   },
   "outputs": [
   ],
   "source": [
    "last_name = \"Raleigh\""
   ]
  },
  {
   "cell_type": "code",
   "execution_count": 9,
   "metadata": {
    "collapsed": false
   },
   "outputs": [
   ],
   "source": [
    "# We have to define previous_count and new_count for the line in the text to work and not throw an error.\n",
    "previous_count = 5\n",
    "new_count = 2\n",
    "total_count = previous_count + new_count"
   ]
  },
  {
   "cell_type": "markdown",
   "metadata": {
    "collapsed": false
   },
   "source": [
    "One helpful convention for naming functions or methods is to use verbs that communicate the “action” of the function. The following code defines a Python function to find the divisors of a number:"
   ]
  },
  {
   "cell_type": "code",
   "execution_count": 5,
   "metadata": {
    "collapsed": false
   },
   "outputs": [
   ],
   "source": [
    "def find_divisors(n):\n",
    "    div_list = []\n",
    "    for i in range(n):\n",
    "        if n % (i + 1) == 0:\n",
    "            div_list.append(i + 1)\n",
    "            return div_list"
   ]
  },
  {
   "cell_type": "markdown",
   "metadata": {
    "collapsed": false
   },
   "source": [
    "If a function returns a logical value, it might be named as follows:"
   ]
  },
  {
   "cell_type": "code",
   "execution_count": 6,
   "metadata": {
    "collapsed": false
   },
   "outputs": [
   ],
   "source": [
    "def are_equal(x, y):\n",
    "    if x == y:\n",
    "        return True\n",
    "    else:\n",
    "        return False"
   ]
  },
  {
   "cell_type": "markdown",
   "metadata": {
    "collapsed": false
   },
   "source": [
    "Mathematicians are accustomed to writing out long, multi-line expressions. This is much harder to do with code and the results are difficult to read and debug. Consider the following Python code, which computes the sample standard deviation of a list of numbers, using the standard mathematical formula converted directly into Python code."
   ]
  },
  {
   "cell_type": "code",
   "execution_count": 16,
   "metadata": {
    "collapsed": false
   },
   "outputs": [
   ],
   "source": [
    "# We have to import the statistics module (calling it stats)\n",
    "import statistics as stats\n",
    "\n",
    "def calculate_sample_variance_short(data):\n",
    "    return sum([(data_value - stats.mean(data))**2\n",
    "                 for data_value in data])/(len(data) - 1)"
   ]
  },
  {
   "cell_type": "markdown",
   "metadata": {
    "collapsed": false
   },
   "source": [
    "A much better approach is to keep expressions simple by first defining simple subexpressions on their own lines. Following that, you can define the main expression as a simple formula using the previously defined subexpressions. So, for example, note the improved readability in the next Python example, which accomplishes the same task. While the former is more concise, it’s also less readable than the second and less clear about the sequence of steps involved in the calculation."
   ]
  },
  {
   "cell_type": "code",
   "execution_count": 17,
   "metadata": {
    "collapsed": false
   },
   "outputs": [
   ],
   "source": [
    "def calculate_sample_variance_readable(data):\n",
    "    data_mean = stats.mean(data)\n",
    "    n = len(data)\n",
    "    squared_deviations = [(data_value - data_mean)**2\n",
    "                          for data_value in data]\n",
    "    return sum(squared_deviations)/(n - 1)"
   ]
  },
  {
   "cell_type": "markdown",
   "metadata": {
    "collapsed": false
   },
   "source": [
    "## Section 2.3.2"
   ]
  },
  {
   "cell_type": "markdown",
   "metadata": {
    "collapsed": false
   },
   "source": [
    "To illustrate the code in this section, we'll create a small dataframe."
   ]
  },
  {
   "cell_type": "code",
   "execution_count": 13,
   "metadata": {
    "collapsed": false
   },
   "outputs": [
    {
     "data": {
      "text/html": [
       "<div>\n",
       "<style scoped>\n",
       "    .dataframe tbody tr th:only-of-type {\n",
       "        vertical-align: middle;\n",
       "    }\n",
       "\n",
       "    .dataframe tbody tr th {\n",
       "        vertical-align: top;\n",
       "    }\n",
       "\n",
       "    .dataframe thead th {\n",
       "        text-align: right;\n",
       "    }\n",
       "</style>\n",
       "<table border=\"1\" class=\"dataframe\">\n",
       "  <thead>\n",
       "    <tr style=\"text-align: right;\">\n",
       "      <th></th>\n",
       "      <th>Name</th>\n",
       "      <th>Tuition</th>\n",
       "      <th>Room and Board</th>\n",
       "    </tr>\n",
       "  </thead>\n",
       "  <tbody>\n",
       "    <tr>\n",
       "      <th>0</th>\n",
       "      <td>Adelphi University</td>\n",
       "      <td>$41,922</td>\n",
       "      <td>$17,150</td>\n",
       "    </tr>\n",
       "    <tr>\n",
       "      <th>1</th>\n",
       "      <td>Agnes Scott College</td>\n",
       "      <td>$44,606</td>\n",
       "      <td>$13,177</td>\n",
       "    </tr>\n",
       "    <tr>\n",
       "      <th>2</th>\n",
       "      <td>Alabama State University</td>\n",
       "      <td>$20,733</td>\n",
       "      <td>$6,292</td>\n",
       "    </tr>\n",
       "    <tr>\n",
       "      <th>3</th>\n",
       "      <td>Albany College of Pharmacy</td>\n",
       "      <td>$37,565</td>\n",
       "      <td>$11,811</td>\n",
       "    </tr>\n",
       "    <tr>\n",
       "      <th>4</th>\n",
       "      <td>Albertus Magnus</td>\n",
       "      <td>$34,081</td>\n",
       "      <td>$14,466</td>\n",
       "    </tr>\n",
       "  </tbody>\n",
       "</table>\n",
       "</div>"
      ],
      "text/plain": [
       "                         Name  Tuition Room and Board\n",
       "0          Adelphi University  $41,922        $17,150\n",
       "1         Agnes Scott College  $44,606        $13,177\n",
       "2    Alabama State University  $20,733         $6,292\n",
       "3  Albany College of Pharmacy  $37,565        $11,811\n",
       "4             Albertus Magnus  $34,081        $14,466"
      ]
     },
     "execution_count": 13,
     "metadata": {
     },
     "output_type": "execute_result"
    }
   ],
   "source": [
    "import pandas as pd\n",
    "\n",
    "datalist = [['Adelphi University', '$41,922', '$17,150'],\n",
    "            ['Agnes Scott College', '$44,606', '$13,177'],\n",
    "            ['Alabama State University', '$20,733', '$6,292'],\n",
    "            ['Albany College of Pharmacy', '$37,565', '$11,811'],\n",
    "            ['Albertus Magnus', '$34,081', '$14,466']]\n",
    "\n",
    "data = pd.DataFrame(datalist, columns = ['Name', 'Tuition', 'Room and Board'])\n",
    "data"
   ]
  },
  {
   "cell_type": "code",
   "execution_count": 14,
   "metadata": {
    "collapsed": false
   },
   "outputs": [
   ],
   "source": [
    "data[\"Tuition\"] = data[\"Tuition\"].str.replace(\"$\", \"\")\n",
    "data[\"Tuition\"] = data[\"Tuition\"].str.replace(\",\", \"\")\n",
    "data[\"Tuition\"] = data[\"Tuition\"].astype(float)"
   ]
  },
  {
   "cell_type": "code",
   "execution_count": 15,
   "metadata": {
    "collapsed": false
   },
   "outputs": [
    {
     "data": {
      "text/html": [
       "<div>\n",
       "<style scoped>\n",
       "    .dataframe tbody tr th:only-of-type {\n",
       "        vertical-align: middle;\n",
       "    }\n",
       "\n",
       "    .dataframe tbody tr th {\n",
       "        vertical-align: top;\n",
       "    }\n",
       "\n",
       "    .dataframe thead th {\n",
       "        text-align: right;\n",
       "    }\n",
       "</style>\n",
       "<table border=\"1\" class=\"dataframe\">\n",
       "  <thead>\n",
       "    <tr style=\"text-align: right;\">\n",
       "      <th></th>\n",
       "      <th>Name</th>\n",
       "      <th>Tuition</th>\n",
       "      <th>Room and Board</th>\n",
       "    </tr>\n",
       "  </thead>\n",
       "  <tbody>\n",
       "    <tr>\n",
       "      <th>0</th>\n",
       "      <td>Adelphi University</td>\n",
       "      <td>41922.0</td>\n",
       "      <td>$17,150</td>\n",
       "    </tr>\n",
       "    <tr>\n",
       "      <th>1</th>\n",
       "      <td>Agnes Scott College</td>\n",
       "      <td>44606.0</td>\n",
       "      <td>$13,177</td>\n",
       "    </tr>\n",
       "    <tr>\n",
       "      <th>2</th>\n",
       "      <td>Alabama State University</td>\n",
       "      <td>20733.0</td>\n",
       "      <td>$6,292</td>\n",
       "    </tr>\n",
       "    <tr>\n",
       "      <th>3</th>\n",
       "      <td>Albany College of Pharmacy</td>\n",
       "      <td>37565.0</td>\n",
       "      <td>$11,811</td>\n",
       "    </tr>\n",
       "    <tr>\n",
       "      <th>4</th>\n",
       "      <td>Albertus Magnus</td>\n",
       "      <td>34081.0</td>\n",
       "      <td>$14,466</td>\n",
       "    </tr>\n",
       "  </tbody>\n",
       "</table>\n",
       "</div>"
      ],
      "text/plain": [
       "                         Name  Tuition Room and Board\n",
       "0          Adelphi University  41922.0        $17,150\n",
       "1         Agnes Scott College  44606.0        $13,177\n",
       "2    Alabama State University  20733.0         $6,292\n",
       "3  Albany College of Pharmacy  37565.0        $11,811\n",
       "4             Albertus Magnus  34081.0        $14,466"
      ]
     },
     "execution_count": 15,
     "metadata": {
     },
     "output_type": "execute_result"
    }
   ],
   "source": [
    "data"
   ]
  },
  {
   "cell_type": "markdown",
   "metadata": {
    "collapsed": false
   },
   "source": [
    "Given the utility of the task performed by the code above, it’s not much more effort to write a little function that does the same thing, but for any column of any data set:"
   ]
  },
  {
   "cell_type": "code",
   "execution_count": 18,
   "metadata": {
    "collapsed": false
   },
   "outputs": [
   ],
   "source": [
    "def convert_currency_to_float(data, col):\n",
    "    data[col] = data[col].str.replace(\"$\", \"\")\n",
    "    data[col] = data[col].str.replace(\",\", \"\")\n",
    "    data[col] = data[col].astype(float)\n",
    "    return data"
   ]
  },
  {
   "cell_type": "markdown",
   "metadata": {
    "collapsed": false
   },
   "source": [
    "Let's see how the function works on the \"Room and Board\" column."
   ]
  },
  {
   "cell_type": "code",
   "execution_count": 19,
   "metadata": {
    "collapsed": false
   },
   "outputs": [
    {
     "data": {
      "text/html": [
       "<div>\n",
       "<style scoped>\n",
       "    .dataframe tbody tr th:only-of-type {\n",
       "        vertical-align: middle;\n",
       "    }\n",
       "\n",
       "    .dataframe tbody tr th {\n",
       "        vertical-align: top;\n",
       "    }\n",
       "\n",
       "    .dataframe thead th {\n",
       "        text-align: right;\n",
       "    }\n",
       "</style>\n",
       "<table border=\"1\" class=\"dataframe\">\n",
       "  <thead>\n",
       "    <tr style=\"text-align: right;\">\n",
       "      <th></th>\n",
       "      <th>Name</th>\n",
       "      <th>Tuition</th>\n",
       "      <th>Room and Board</th>\n",
       "    </tr>\n",
       "  </thead>\n",
       "  <tbody>\n",
       "    <tr>\n",
       "      <th>0</th>\n",
       "      <td>Adelphi University</td>\n",
       "      <td>41922.0</td>\n",
       "      <td>17150.0</td>\n",
       "    </tr>\n",
       "    <tr>\n",
       "      <th>1</th>\n",
       "      <td>Agnes Scott College</td>\n",
       "      <td>44606.0</td>\n",
       "      <td>13177.0</td>\n",
       "    </tr>\n",
       "    <tr>\n",
       "      <th>2</th>\n",
       "      <td>Alabama State University</td>\n",
       "      <td>20733.0</td>\n",
       "      <td>6292.0</td>\n",
       "    </tr>\n",
       "    <tr>\n",
       "      <th>3</th>\n",
       "      <td>Albany College of Pharmacy</td>\n",
       "      <td>37565.0</td>\n",
       "      <td>11811.0</td>\n",
       "    </tr>\n",
       "    <tr>\n",
       "      <th>4</th>\n",
       "      <td>Albertus Magnus</td>\n",
       "      <td>34081.0</td>\n",
       "      <td>14466.0</td>\n",
       "    </tr>\n",
       "  </tbody>\n",
       "</table>\n",
       "</div>"
      ],
      "text/plain": [
       "                         Name  Tuition  Room and Board\n",
       "0          Adelphi University  41922.0         17150.0\n",
       "1         Agnes Scott College  44606.0         13177.0\n",
       "2    Alabama State University  20733.0          6292.0\n",
       "3  Albany College of Pharmacy  37565.0         11811.0\n",
       "4             Albertus Magnus  34081.0         14466.0"
      ]
     },
     "execution_count": 19,
     "metadata": {
     },
     "output_type": "execute_result"
    }
   ],
   "source": [
    "convert_currency_to_float(data, \"Room and Board\")\n",
    "data"
   ]
  },
  {
   "cell_type": "markdown",
   "metadata": {
    "collapsed": false
   },
   "source": [
    "## Figure 2.8"
   ]
  },
  {
   "cell_type": "code",
   "execution_count": 20,
   "metadata": {
    "collapsed": false
   },
   "outputs": [
   ],
   "source": [
    "my_list = [[(i + 1) for i in range(10)], [\"Sean\", \"Raleigh\"], {\"a\": 1, \"b\": 2, \"c\": 3, \"d\": 4, \"e\": 5}]"
   ]
  },
  {
   "cell_type": "code",
   "execution_count": 21,
   "metadata": {
    "collapsed": false
   },
   "outputs": [
    {
     "data": {
      "text/plain": [
       "[[1, 2, 3, 4, 5, 6, 7, 8, 9, 10],\n",
       " ['Sean', 'Raleigh'],\n",
       " {'a': 1, 'b': 2, 'c': 3, 'd': 4, 'e': 5}]"
      ]
     },
     "execution_count": 21,
     "metadata": {
     },
     "output_type": "execute_result"
    }
   ],
   "source": [
    "my_list"
   ]
  }
 ],
 "metadata": {
  "kernelspec": {
   "display_name": "Python 3 (system-wide)",
   "language": "python",
   "metadata": {
    "cocalc": {
     "description": "Python 3 programming language",
     "priority": 100,
     "url": "https://www.python.org/"
    }
   },
   "name": "python3"
  },
  "language_info": {
   "codemirror_mode": {
    "name": "ipython",
    "version": 3
   },
   "file_extension": ".py",
   "mimetype": "text/x-python",
   "name": "python",
   "nbconvert_exporter": "python",
   "pygments_lexer": "ipython3",
   "version": "3.6.9"
  }
 },
 "nbformat": 4,
 "nbformat_minor": 4
}